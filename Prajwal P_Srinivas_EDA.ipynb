# Importing libraries
import pandas as pd
import numpy as np
import matplotlib.pyplot as plt
import seaborn as sns

# Load the datasets
customers = pd.read_csv("Customers.csv")
products = pd.read_csv("Products.csv")
transactions = pd.read_csv("Transactions.csv")

# Convert date columns to datetime
customers['SignupDate'] = pd.to_datetime(customers['SignupDate'])
transactions['TransactionDate'] = pd.to_datetime(transactions['TransactionDate'])

# Merge datasets for a consolidated view
data = pd.merge(transactions, customers, on='CustomerID', how='left')
data = pd.merge(data, products, on='ProductID', how='left')

# **1. Region-wise Customer Distribution**
region_counts = data['Region'].value_counts()
plt.figure(figsize=(8, 5))
sns.barplot(x=region_counts.index, y=region_counts.values, palette='viridis')
plt.title("Customers by Region")
plt.xlabel("Region")
plt.ylabel("Count")
plt.show()

# **2. Top 10 Products by Revenue**
top_products = data.groupby('ProductName')['TotalValue'].sum().sort_values(ascending=False).head(10)
plt.figure(figsize=(10, 6))
top_products.plot(kind='bar', color='dodgerblue')
plt.title("Top 10 Products by Revenue")
plt.xlabel("Product Name")
plt.ylabel("Total Revenue")
plt.show()

# **3. Monthly Transaction Trends**
data['Month'] = data['TransactionDate'].dt.to_period('M')
monthly_sales = data.groupby('Month')['TotalValue'].sum()
monthly_sales.plot(kind='line', marker='o', figsize=(12, 6), color='teal')
plt.title("Monthly Sales Trend")
plt.xlabel("Month")
plt.ylabel("Total Revenue")
plt.grid()
plt.show()

# **4. Category-wise Revenue**
category_revenue = data.groupby('Category')['TotalValue'].sum().sort_values(ascending=False)
plt.figure(figsize=(8, 5))
category_revenue.plot(kind='bar', color='coral')
plt.title("Revenue by Product Category")
plt.xlabel("Category")
plt.ylabel("Total Revenue")
plt.show()

# **5. Customer Lifetime Value (CLV)**
customer_lifetime_value = data.groupby('CustomerID')['TotalValue'].sum().sort_values(ascending=False).head(10)
plt.figure(figsize=(10, 6))
customer_lifetime_value.plot(kind='bar', color='slateblue')
plt.title("Top 10 Customers by Lifetime Value")
plt.xlabel("CustomerID")
plt.ylabel("Lifetime Value")
plt.show()
