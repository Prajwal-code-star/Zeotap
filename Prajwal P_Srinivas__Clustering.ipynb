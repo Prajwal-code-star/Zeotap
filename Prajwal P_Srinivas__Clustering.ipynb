from sklearn.cluster import KMeans
from sklearn.metrics import davies_bouldin_score
from sklearn.decomposition import PCA

# **1. Prepare Features for Clustering**
features = data.groupby('CustomerID').agg({
    'TotalValue': 'sum',
    'Quantity': 'sum',
    'Price': 'mean'
}).reset_index()

# **2. Normalize Features**
scaled_features = scaler.fit_transform(features.iloc[:, 1:])

# **3. Apply KMeans Clustering**
kmeans = KMeans(n_clusters=5, random_state=42)
clusters = kmeans.fit_predict(scaled_features)

# **4. Add Cluster Labels**
features['Cluster'] = clusters

# **5. Evaluate Clustering**
db_index = davies_bouldin_score(scaled_features, clusters)
print("Davies-Bouldin Index:", db_index)

# **6. Visualize Clusters with PCA**
pca = PCA(n_components=2)
reduced_data = pca.fit_transform(scaled_features)
plt.figure(figsize=(10, 6))
plt.scatter(reduced_data[:, 0], reduced_data[:, 1], c=clusters, cmap='viridis', s=50)
plt.title("Customer Clusters")
plt.xlabel("PCA Component 1")
plt.ylabel("PCA Component 2")
plt.colorbar(label="Cluster")
plt.show()
