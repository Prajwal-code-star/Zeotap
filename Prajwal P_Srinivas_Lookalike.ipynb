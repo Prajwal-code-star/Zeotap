from sklearn.metrics.pairwise import cosine_similarity
from sklearn.preprocessing import StandardScaler

# **1. Create Customer Profiles**
customer_profiles = data.groupby('CustomerID').agg({
    'TotalValue': 'sum',
    'Quantity': 'sum',
    'Price': 'mean'
}).reset_index()

# **2. Normalize Features**
scaler = StandardScaler()
scaled_profiles = scaler.fit_transform(customer_profiles.iloc[:, 1:])

# **3. Compute Similarity Matrix**
similarity_matrix = cosine_similarity(scaled_profiles)

# **4. Find Top 3 Similar Customers**
recommendations = {}
for i, customer_id in enumerate(customer_profiles['CustomerID']):
    scores = list(enumerate(similarity_matrix[i]))
    scores = sorted(scores, key=lambda x: x[1], reverse=True)[1:4]  # Exclude self
    recommendations[customer_id] = [(customer_profiles.iloc[j[0]]['CustomerID'], j[1]) for j in scores]

# **5. Save Recommendations**
lookalike_df = pd.DataFrame.from_dict(recommendations, orient='index', columns=['Top1', 'Top2', 'Top3'])
lookalike_df.to_csv("FirstName_LastName_Lookalike.csv", index=False)

print("Lookalike recommendations saved in 'FirstName_LastName_Lookalike.csv'")
